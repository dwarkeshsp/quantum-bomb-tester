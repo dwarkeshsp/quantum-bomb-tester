{
 "cells": [
  {
   "cell_type": "code",
   "execution_count": 1,
   "metadata": {},
   "outputs": [],
   "source": [
    "import numpy as np\n",
    "from qiskit import(\n",
    "    QuantumCircuit,\n",
    "    QuantumRegister,\n",
    "    execute,\n",
    "    Aer)\n",
    "from qiskit.quantum_info.operators import Operator"
   ]
  },
  {
   "cell_type": "code",
   "execution_count": 2,
   "metadata": {},
   "outputs": [],
   "source": [
    "bomb = False"
   ]
  },
  {
   "cell_type": "code",
   "execution_count": 200,
   "metadata": {},
   "outputs": [
    {
     "data": {
      "text/html": [
       "<pre style=\"word-wrap: normal;white-space: pre;background: #fff0;line-height: 1.1;font-family: &quot;Courier New&quot;,Courier,monospace\">     ┌────┐┌────┐┌────┐┌────┐┌────┐┌─┐\n",
       "q_0: ┤ Re ├┤ Re ├┤ Re ├┤ Re ├┤ Re ├┤M├\n",
       "     └────┘└────┘└────┘└────┘└────┘└╥┘\n",
       "c_0: ═══════════════════════════════╩═\n",
       "                                      </pre>"
      ],
      "text/plain": [
       "     ┌────┐┌────┐┌────┐┌────┐┌────┐┌─┐\n",
       "q_0: ┤ Re ├┤ Re ├┤ Re ├┤ Re ├┤ Re ├┤M├\n",
       "     └────┘└────┘└────┘└────┘└────┘└╥┘\n",
       "c_0: ═══════════════════════════════╩═\n",
       "                                      "
      ]
     },
     "execution_count": 200,
     "metadata": {},
     "output_type": "execute_result"
    }
   ],
   "source": [
    "e = np.pi / 10\n",
    "rotations = int(np.pi / (2*e))\n",
    "\n",
    "measurements = rotations + 1 if bomb else 1\n",
    "circuit = QuantumCircuit(1, measurements)\n",
    "\n",
    "rotate = Operator([\n",
    "    [np.cos(e), -np.sin(e)],\n",
    "    [np.sin(e), np.cos(e)]])\n",
    "\n",
    "for i in range(rotations):\n",
    "    circuit.unitary(rotate, [0], label='Re')\n",
    "    if bomb:\n",
    "        circuit.measure(0, i)\n",
    "\n",
    "circuit.measure(0, measurements - 1)\n",
    "circuit.draw()"
   ]
  },
  {
   "cell_type": "code",
   "execution_count": 4,
   "metadata": {},
   "outputs": [
    {
     "ename": "SyntaxError",
     "evalue": "invalid syntax (<ipython-input-4-f04ad0683b77>, line 10)",
     "output_type": "error",
     "traceback": [
      "\u001b[0;36m  File \u001b[0;32m\"<ipython-input-4-f04ad0683b77>\"\u001b[0;36m, line \u001b[0;32m10\u001b[0m\n\u001b[0;31m    ] if '0' * (measurements - 1 = '1') in counts else 0\u001b[0m\n\u001b[0m                                 ^\u001b[0m\n\u001b[0;31mSyntaxError\u001b[0m\u001b[0;31m:\u001b[0m invalid syntax\n"
     ]
    }
   ],
   "source": [
    "simulator = Aer.get_backend('qasm_simulator')\n",
    "shots = 10000\n",
    "job = execute(circuit, simulator, shots=shots)\n",
    "result = job.result()\n",
    "counts = result.get_counts(circuit)\n",
    "predict_bomb = predict_no_bomb = blown_up = 0\n",
    "if bomb:\n",
    "    predict_bomb = counts['0' * measurements]\n",
    "    zeros_one = '0' * (predict_no_bomb - 1) + '1'\n",
    "    predict_no_bomb = counts[zeros_one] if zeros_one in counts else 0\n",
    "    blown_up = shots - predict_bomb - false_negatives\n",
    "else:\n",
    "    predict_bomb['1']\n",
    "    predict_no_bomb = counts['0']\n",
    "    blown_up = 0"
   ]
  },
  {
   "cell_type": "code",
   "execution_count": 61,
   "metadata": {},
   "outputs": [
    {
     "data": {
      "text/plain": [
       "array([0.99500417+0.j, 0.09983342+0.j])"
      ]
     },
     "execution_count": 61,
     "metadata": {},
     "output_type": "execute_result"
    }
   ],
   "source": [
    "backend = Aer.get_backend('statevector_simulator') # Tell Qiskit how to simulate our circuit\n",
    "state = execute(circuit, backend).result().get_statevector()\n",
    "state"
   ]
  },
  {
   "cell_type": "code",
   "execution_count": 78,
   "metadata": {},
   "outputs": [
    {
     "data": {
      "text/plain": [
       "3.141592653589793"
      ]
     },
     "execution_count": 78,
     "metadata": {},
     "output_type": "execute_result"
    }
   ],
   "source": [
    "np.pi"
   ]
  }
 ],
 "metadata": {
  "kernelspec": {
   "display_name": "Python 3",
   "language": "python",
   "name": "python3"
  },
  "language_info": {
   "codemirror_mode": {
    "name": "ipython",
    "version": 3
   },
   "file_extension": ".py",
   "mimetype": "text/x-python",
   "name": "python",
   "nbconvert_exporter": "python",
   "pygments_lexer": "ipython3",
   "version": "3.8.2"
  }
 },
 "nbformat": 4,
 "nbformat_minor": 4
}
