{
 "cells": [
  {
   "cell_type": "markdown",
   "metadata": {},
   "source": [
    "### How it works\n",
    "[Scott Aaronson lecture notes](https://www.scottaaronson.com/qclec/4.pdf)\n",
    "\n",
    "[Wikipedia](https://en.wikipedia.org/wiki/Elitzur%E2%80%93Vaidman_bomb_tester)\n",
    "\n",
    "Implemented by Dwarkesh Patel. Created by Avshalom Elitzur and Lev Vaidman."
   ]
  },
  {
   "cell_type": "code",
   "execution_count": 1,
   "metadata": {},
   "outputs": [],
   "source": [
    "import numpy as np\n",
    "import matplotlib.pyplot as plt\n",
    "from qiskit import(\n",
    "    QuantumCircuit,\n",
    "    QuantumRegister,\n",
    "    execute,\n",
    "    Aer)\n",
    "from qiskit.quantum_info.operators import Operator"
   ]
  },
  {
   "cell_type": "code",
   "execution_count": 2,
   "metadata": {},
   "outputs": [],
   "source": [
    "e = np.pi / 100\n",
    "rotations = int(np.pi / (2*e))\n",
    "shots = 10000\n",
    "\n",
    "\n",
    "def elitzur_vaidman(bomb):\n",
    "    measurements = rotations + 1 if bomb else 1\n",
    "    circuit = QuantumCircuit(1, measurements)\n",
    "\n",
    "    rotate = Operator([\n",
    "        [np.cos(e), -np.sin(e)],\n",
    "        [np.sin(e), np.cos(e)]])\n",
    "\n",
    "    for i in range(rotations):\n",
    "        circuit.unitary(rotate, [0], label='Re')\n",
    "        if bomb:\n",
    "            circuit.measure(0, i)\n",
    "\n",
    "    circuit.measure(0, measurements - 1)\n",
    "\n",
    "    simulator = Aer.get_backend('qasm_simulator')\n",
    "    job = execute(circuit, simulator, shots=shots)\n",
    "    result = job.result()\n",
    "    counts = result.get_counts(circuit)\n",
    "    predict_bomb = predict_no_bomb = blown_up = 0\n",
    "    if bomb:\n",
    "        predict_bomb = counts['0' * measurements]\n",
    "        zeros_one = '0' * (predict_no_bomb - 1) + '1'\n",
    "        predict_no_bomb = counts[zeros_one] if zeros_one in counts else 0\n",
    "        blown_up = shots - predict_bomb - predict_no_bomb\n",
    "    else:\n",
    "        predict_bomb = counts['1']\n",
    "        predict_no_bomb = counts['0'] if '0' in counts else 0\n",
    "        blown_up = 0\n",
    "\n",
    "    y_pos = np.arange(3)\n",
    "    plt.bar(y_pos, [predict_bomb, predict_no_bomb, blown_up])\n",
    "    plt.xticks(y_pos, ['Predicts bomb', 'Predicts no bomb', 'Blown up'])\n",
    "    plt.ylabel('Trials')\n",
    "    plt.title('Elitzur-Vaidman results with' +\n",
    "              (' ' if bomb else ' no ') + 'bomb')\n",
    "\n",
    "    plt.show()"
   ]
  },
  {
   "cell_type": "code",
   "execution_count": 3,
   "metadata": {},
   "outputs": [
    {
     "data": {
      "image/png": "[encoded data removed]",
      "text/plain": [
       "<Figure size 432x288 with 1 Axes>"
      ]
     },
     "metadata": {
      "needs_background": "light"
     },
     "output_type": "display_data"
    },
    {
     "data": {
      "image/png": "[encoded data removed]",
      "text/plain": [
       "<Figure size 432x288 with 1 Axes>"
      ]
     },
     "metadata": {
      "needs_background": "light"
     },
     "output_type": "display_data"
    }
   ],
   "source": [
    "elitzur_vaidman(bomb=True)\n",
    "elitzur_vaidman(bomb=False)"
   ]
  }
 ],
 "metadata": {
  "kernelspec": {
   "display_name": "Python 3",
   "language": "python",
   "name": "python3"
  },
  "language_info": {
   "codemirror_mode": {
    "name": "ipython",
    "version": 3
   },
   "file_extension": ".py",
   "mimetype": "text/x-python",
   "name": "python",
   "nbconvert_exporter": "python",
   "pygments_lexer": "ipython3",
   "version": "3.8.2"
  }
 },
 "nbformat": 4,
 "nbformat_minor": 4
}
